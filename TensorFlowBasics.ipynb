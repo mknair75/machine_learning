{
  "nbformat": 4,
  "nbformat_minor": 0,
  "metadata": {
    "colab": {
      "name": "TensorFlowBasics.ipynb",
      "provenance": [],
      "authorship_tag": "ABX9TyNihusxSEbtwiwz4elLr2rx",
      "include_colab_link": true
    },
    "kernelspec": {
      "name": "python3",
      "display_name": "Python 3"
    },
    "language_info": {
      "name": "python"
    }
  },
  "cells": [
    {
      "cell_type": "markdown",
      "metadata": {
        "id": "view-in-github",
        "colab_type": "text"
      },
      "source": [
        "<a href=\"https://colab.research.google.com/github/mknair75/machine_learning/blob/main/TensorFlowBasics.ipynb\" target=\"_parent\"><img src=\"https://colab.research.google.com/assets/colab-badge.svg\" alt=\"Open In Colab\"/></a>"
      ]
    },
    {
      "cell_type": "code",
      "metadata": {
        "colab": {
          "base_uri": "https://localhost:8080/"
        },
        "id": "n8YnyfU-r3h8",
        "outputId": "4d0a38cf-a2c5-4761-9d47-0eb4de43d5a6"
      },
      "source": [
        "import numpy as np \n",
        "import tensorflow as tf \n",
        "\n",
        "numpy_A = np.arange(1,25, dtype = np.int32)\n",
        "numpy_A"
      ],
      "execution_count": null,
      "outputs": [
        {
          "output_type": "execute_result",
          "data": {
            "text/plain": [
              "array([ 1,  2,  3,  4,  5,  6,  7,  8,  9, 10, 11, 12, 13, 14, 15, 16, 17,\n",
              "       18, 19, 20, 21, 22, 23, 24], dtype=int32)"
            ]
          },
          "metadata": {
            "tags": []
          },
          "execution_count": 1
        }
      ]
    },
    {
      "cell_type": "code",
      "metadata": {
        "colab": {
          "base_uri": "https://localhost:8080/"
        },
        "id": "75SZORzpkPtn",
        "outputId": "1155402a-a7fd-4210-88be-05c76681ddd9"
      },
      "source": [
        "A = tf.constant (numpy_A, shape = (2,3,4))\n",
        "A"
      ],
      "execution_count": null,
      "outputs": [
        {
          "output_type": "execute_result",
          "data": {
            "text/plain": [
              "<tf.Tensor: shape=(2, 3, 4), dtype=int32, numpy=\n",
              "array([[[ 1,  2,  3,  4],\n",
              "        [ 5,  6,  7,  8],\n",
              "        [ 9, 10, 11, 12]],\n",
              "\n",
              "       [[13, 14, 15, 16],\n",
              "        [17, 18, 19, 20],\n",
              "        [21, 22, 23, 24]]], dtype=int32)>"
            ]
          },
          "metadata": {
            "tags": []
          },
          "execution_count": 2
        }
      ]
    },
    {
      "cell_type": "code",
      "metadata": {
        "colab": {
          "base_uri": "https://localhost:8080/"
        },
        "id": "OgqgZaY--jdt",
        "outputId": "db45946c-0484-45ea-f637-77dadabb8b5c"
      },
      "source": [
        "rank_4_tensor = tf.zeros(shape = [2,3,4,5])\n",
        "rank_4_tensor"
      ],
      "execution_count": null,
      "outputs": [
        {
          "output_type": "execute_result",
          "data": {
            "text/plain": [
              "<tf.Tensor: shape=(2, 3, 4, 5), dtype=float32, numpy=\n",
              "array([[[[0., 0., 0., 0., 0.],\n",
              "         [0., 0., 0., 0., 0.],\n",
              "         [0., 0., 0., 0., 0.],\n",
              "         [0., 0., 0., 0., 0.]],\n",
              "\n",
              "        [[0., 0., 0., 0., 0.],\n",
              "         [0., 0., 0., 0., 0.],\n",
              "         [0., 0., 0., 0., 0.],\n",
              "         [0., 0., 0., 0., 0.]],\n",
              "\n",
              "        [[0., 0., 0., 0., 0.],\n",
              "         [0., 0., 0., 0., 0.],\n",
              "         [0., 0., 0., 0., 0.],\n",
              "         [0., 0., 0., 0., 0.]]],\n",
              "\n",
              "\n",
              "       [[[0., 0., 0., 0., 0.],\n",
              "         [0., 0., 0., 0., 0.],\n",
              "         [0., 0., 0., 0., 0.],\n",
              "         [0., 0., 0., 0., 0.]],\n",
              "\n",
              "        [[0., 0., 0., 0., 0.],\n",
              "         [0., 0., 0., 0., 0.],\n",
              "         [0., 0., 0., 0., 0.],\n",
              "         [0., 0., 0., 0., 0.]],\n",
              "\n",
              "        [[0., 0., 0., 0., 0.],\n",
              "         [0., 0., 0., 0., 0.],\n",
              "         [0., 0., 0., 0., 0.],\n",
              "         [0., 0., 0., 0., 0.]]]], dtype=float32)>"
            ]
          },
          "metadata": {
            "tags": []
          },
          "execution_count": 3
        }
      ]
    },
    {
      "cell_type": "code",
      "metadata": {
        "colab": {
          "base_uri": "https://localhost:8080/"
        },
        "id": "u1mKXCUo-1pX",
        "outputId": "1d5c81a0-579f-471d-bb96-a5eaf934e361"
      },
      "source": [
        "tf.size(rank_4_tensor)\n",
        "\n",
        "print (\"Number of dimensions\", rank_4_tensor.ndim)\n",
        "print (\"Shape\", rank_4_tensor.shape)\n",
        "print (\"Elements along first axis\", rank_4_tensor.shape[0])\n",
        "print (\"Elements along last axis\", rank_4_tensor.shape[-1])\n",
        "print (\"Number of elements in our tensor\", tf.size(rank_4_tensor).numpy())"
      ],
      "execution_count": null,
      "outputs": [
        {
          "output_type": "stream",
          "text": [
            "Number of dimensions 4\n",
            "Shape (2, 3, 4, 5)\n",
            "Elements along first axis 2\n",
            "Elements along last axis 5\n",
            "Number of elements in our tensor 120\n"
          ],
          "name": "stdout"
        }
      ]
    },
    {
      "cell_type": "code",
      "metadata": {
        "colab": {
          "base_uri": "https://localhost:8080/"
        },
        "id": "jAMaSQTzdomI",
        "outputId": "59c3bd7f-6d4c-463b-d5e2-607b7d6d1370"
      },
      "source": [
        "#First element of each dimension\n",
        "rank_4_tensor[:2,:2,:2,:2]"
      ],
      "execution_count": null,
      "outputs": [
        {
          "output_type": "execute_result",
          "data": {
            "text/plain": [
              "<tf.Tensor: shape=(2, 2, 2, 2), dtype=float32, numpy=\n",
              "array([[[[0., 0.],\n",
              "         [0., 0.]],\n",
              "\n",
              "        [[0., 0.],\n",
              "         [0., 0.]]],\n",
              "\n",
              "\n",
              "       [[[0., 0.],\n",
              "         [0., 0.]],\n",
              "\n",
              "        [[0., 0.],\n",
              "         [0., 0.]]]], dtype=float32)>"
            ]
          },
          "metadata": {
            "tags": []
          },
          "execution_count": 5
        }
      ]
    },
    {
      "cell_type": "code",
      "metadata": {
        "colab": {
          "base_uri": "https://localhost:8080/"
        },
        "id": "6HaobBkHeE2O",
        "outputId": "9d3b064c-7af1-45e2-ae8f-f56c57c3f456"
      },
      "source": [
        "# First element from each dimension except for the last one\n",
        "rank_4_tensor[:1,:1,:1,:]"
      ],
      "execution_count": null,
      "outputs": [
        {
          "output_type": "execute_result",
          "data": {
            "text/plain": [
              "<tf.Tensor: shape=(1, 1, 1, 5), dtype=float32, numpy=array([[[[0., 0., 0., 0., 0.]]]], dtype=float32)>"
            ]
          },
          "metadata": {
            "tags": []
          },
          "execution_count": 6
        }
      ]
    },
    {
      "cell_type": "code",
      "metadata": {
        "colab": {
          "base_uri": "https://localhost:8080/"
        },
        "id": "X3bQtDWqfAwb",
        "outputId": "deb5ff11-cfeb-4339-e1bd-d9e7c086e33d"
      },
      "source": [
        "rank_2_tensor = tf.constant([[10,7],\n",
        "                             [4,5]])\n",
        "rank_2_tensor.shape,rank_2_tensor.ndim"
      ],
      "execution_count": null,
      "outputs": [
        {
          "output_type": "execute_result",
          "data": {
            "text/plain": [
              "(TensorShape([2, 2]), 2)"
            ]
          },
          "metadata": {
            "tags": []
          },
          "execution_count": 7
        }
      ]
    },
    {
      "cell_type": "code",
      "metadata": {
        "colab": {
          "base_uri": "https://localhost:8080/"
        },
        "id": "EQQuLExwfiM0",
        "outputId": "f8fb7cfe-bf34-40d6-a015-6bfc025fd226"
      },
      "source": [
        "# Get last item for each row \n",
        "rank_2_tensor[:,-1]"
      ],
      "execution_count": null,
      "outputs": [
        {
          "output_type": "execute_result",
          "data": {
            "text/plain": [
              "<tf.Tensor: shape=(2,), dtype=int32, numpy=array([7, 5], dtype=int32)>"
            ]
          },
          "metadata": {
            "tags": []
          },
          "execution_count": 8
        }
      ]
    },
    {
      "cell_type": "code",
      "metadata": {
        "colab": {
          "base_uri": "https://localhost:8080/"
        },
        "id": "SJ-sObXsf8Ls",
        "outputId": "07e08b46-ee19-48ce-b522-0f976a31ffed"
      },
      "source": [
        "# Add extra dimension \n",
        "rank_3_tensor = rank_2_tensor[...,tf.newaxis]\n",
        "rank_3_tensor"
      ],
      "execution_count": null,
      "outputs": [
        {
          "output_type": "execute_result",
          "data": {
            "text/plain": [
              "<tf.Tensor: shape=(2, 2, 1), dtype=int32, numpy=\n",
              "array([[[10],\n",
              "        [ 7]],\n",
              "\n",
              "       [[ 4],\n",
              "        [ 5]]], dtype=int32)>"
            ]
          },
          "metadata": {
            "tags": []
          },
          "execution_count": 9
        }
      ]
    },
    {
      "cell_type": "code",
      "metadata": {
        "colab": {
          "base_uri": "https://localhost:8080/"
        },
        "id": "DigRCYW2f8TF",
        "outputId": "cf7bd6b0-2d40-4786-d76f-a75d839b516d"
      },
      "source": [
        "# Alternative to tf.newaxis\n",
        "tf.expand_dims(rank_2_tensor,axis=-1)"
      ],
      "execution_count": null,
      "outputs": [
        {
          "output_type": "execute_result",
          "data": {
            "text/plain": [
              "<tf.Tensor: shape=(2, 2, 1), dtype=int32, numpy=\n",
              "array([[[10],\n",
              "        [ 7]],\n",
              "\n",
              "       [[ 4],\n",
              "        [ 5]]], dtype=int32)>"
            ]
          },
          "metadata": {
            "tags": []
          },
          "execution_count": 10
        }
      ]
    },
    {
      "cell_type": "code",
      "metadata": {
        "colab": {
          "base_uri": "https://localhost:8080/"
        },
        "id": "JPyumXRGhD6X",
        "outputId": "564674dc-09e6-4c8a-ba51-f49785336750"
      },
      "source": [
        "# Expand the 0th axis \n",
        "tf.expand_dims(rank_2_tensor,axis = 0)"
      ],
      "execution_count": null,
      "outputs": [
        {
          "output_type": "execute_result",
          "data": {
            "text/plain": [
              "<tf.Tensor: shape=(1, 2, 2), dtype=int32, numpy=\n",
              "array([[[10,  7],\n",
              "        [ 4,  5]]], dtype=int32)>"
            ]
          },
          "metadata": {
            "tags": []
          },
          "execution_count": 11
        }
      ]
    },
    {
      "cell_type": "code",
      "metadata": {
        "colab": {
          "base_uri": "https://localhost:8080/"
        },
        "id": "SbMrbPztjblB",
        "outputId": "16d88d38-471e-47e4-c961-30fb327496aa"
      },
      "source": [
        "# Matrix Multiplication \n",
        "tf.matmul(rank_2_tensor,rank_2_tensor)"
      ],
      "execution_count": null,
      "outputs": [
        {
          "output_type": "execute_result",
          "data": {
            "text/plain": [
              "<tf.Tensor: shape=(2, 2), dtype=int32, numpy=\n",
              "array([[128, 105],\n",
              "       [ 60,  53]], dtype=int32)>"
            ]
          },
          "metadata": {
            "tags": []
          },
          "execution_count": 12
        }
      ]
    },
    {
      "cell_type": "code",
      "metadata": {
        "colab": {
          "base_uri": "https://localhost:8080/"
        },
        "id": "w7qlRkOTjwVO",
        "outputId": "48e38a4c-8be1-484c-abe9-3a8d89726f08"
      },
      "source": [
        "rank_2_tensor * rank_2_tensor\n"
      ],
      "execution_count": null,
      "outputs": [
        {
          "output_type": "execute_result",
          "data": {
            "text/plain": [
              "<tf.Tensor: shape=(2, 2), dtype=int32, numpy=\n",
              "array([[100,  49],\n",
              "       [ 16,  25]], dtype=int32)>"
            ]
          },
          "metadata": {
            "tags": []
          },
          "execution_count": 13
        }
      ]
    },
    {
      "cell_type": "code",
      "metadata": {
        "colab": {
          "base_uri": "https://localhost:8080/"
        },
        "id": "-djdETb2j9fX",
        "outputId": "6e557f99-a98a-4717-bb94-bec867b0363e"
      },
      "source": [
        "rank_2_tensor @ rank_2_tensor"
      ],
      "execution_count": null,
      "outputs": [
        {
          "output_type": "execute_result",
          "data": {
            "text/plain": [
              "<tf.Tensor: shape=(2, 2), dtype=int32, numpy=\n",
              "array([[128, 105],\n",
              "       [ 60,  53]], dtype=int32)>"
            ]
          },
          "metadata": {
            "tags": []
          },
          "execution_count": 14
        }
      ]
    },
    {
      "cell_type": "code",
      "metadata": {
        "colab": {
          "base_uri": "https://localhost:8080/"
        },
        "id": "lrNKXdhGgyIH",
        "outputId": "bb784c42-8998-4684-c606-591ee6864528"
      },
      "source": [
        "X = tf.constant([[1,2,3],\n",
        "                  [3,4,5]])\n",
        "Y= tf.constant([[1,2],[2,3],[3,4]])\n",
        "X,Y"
      ],
      "execution_count": null,
      "outputs": [
        {
          "output_type": "execute_result",
          "data": {
            "text/plain": [
              "(<tf.Tensor: shape=(2, 3), dtype=int32, numpy=\n",
              " array([[1, 2, 3],\n",
              "        [3, 4, 5]], dtype=int32)>,\n",
              " <tf.Tensor: shape=(3, 2), dtype=int32, numpy=\n",
              " array([[1, 2],\n",
              "        [2, 3],\n",
              "        [3, 4]], dtype=int32)>)"
            ]
          },
          "metadata": {
            "tags": []
          },
          "execution_count": 15
        }
      ]
    },
    {
      "cell_type": "code",
      "metadata": {
        "colab": {
          "base_uri": "https://localhost:8080/"
        },
        "id": "bQULTaCLhEZT",
        "outputId": "a33ec360-56d0-4c73-d0e4-c56e14de383b"
      },
      "source": [
        "tf.matmul(X,Y)"
      ],
      "execution_count": null,
      "outputs": [
        {
          "output_type": "execute_result",
          "data": {
            "text/plain": [
              "<tf.Tensor: shape=(2, 2), dtype=int32, numpy=\n",
              "array([[14, 20],\n",
              "       [26, 38]], dtype=int32)>"
            ]
          },
          "metadata": {
            "tags": []
          },
          "execution_count": 16
        }
      ]
    },
    {
      "cell_type": "code",
      "metadata": {
        "colab": {
          "base_uri": "https://localhost:8080/"
        },
        "id": "pI1oqxAGhm_W",
        "outputId": "ce7f1c14-a2c0-42ef-8475-f89d9922576b"
      },
      "source": [
        "tf.matmul(X,tf.reshape(X,shape=(3,2)))"
      ],
      "execution_count": null,
      "outputs": [
        {
          "output_type": "execute_result",
          "data": {
            "text/plain": [
              "<tf.Tensor: shape=(2, 2), dtype=int32, numpy=\n",
              "array([[19, 23],\n",
              "       [35, 43]], dtype=int32)>"
            ]
          },
          "metadata": {
            "tags": []
          },
          "execution_count": 17
        }
      ]
    },
    {
      "cell_type": "code",
      "metadata": {
        "colab": {
          "base_uri": "https://localhost:8080/"
        },
        "id": "SB56J25uh8KA",
        "outputId": "4c7c5aed-d80a-4b66-9e00-509c085615c6"
      },
      "source": [
        "tf.reshape(X,shape=(3,2))"
      ],
      "execution_count": null,
      "outputs": [
        {
          "output_type": "execute_result",
          "data": {
            "text/plain": [
              "<tf.Tensor: shape=(3, 2), dtype=int32, numpy=\n",
              "array([[1, 2],\n",
              "       [3, 3],\n",
              "       [4, 5]], dtype=int32)>"
            ]
          },
          "metadata": {
            "tags": []
          },
          "execution_count": 18
        }
      ]
    },
    {
      "cell_type": "code",
      "metadata": {
        "colab": {
          "base_uri": "https://localhost:8080/"
        },
        "id": "sdr_yHVjiifq",
        "outputId": "a54439a2-6f82-4b27-99ee-ad7f12921d31"
      },
      "source": [
        "E = tf.constant(np.random.randint(1,100,50))\n",
        "E"
      ],
      "execution_count": null,
      "outputs": [
        {
          "output_type": "execute_result",
          "data": {
            "text/plain": [
              "<tf.Tensor: shape=(50,), dtype=int64, numpy=\n",
              "array([56, 57,  6, 67, 63, 29, 70, 85, 32, 41,  9, 88, 29, 64,  5,  7,  9,\n",
              "       66, 72, 80, 95, 47, 18, 64, 89, 26, 14, 18, 90, 23, 48, 86, 63, 99,\n",
              "       83, 96, 39, 23, 96,  2,  5,  1, 38, 39, 84, 55, 11, 17, 66, 32])>"
            ]
          },
          "metadata": {
            "tags": []
          },
          "execution_count": 19
        }
      ]
    },
    {
      "cell_type": "code",
      "metadata": {
        "colab": {
          "base_uri": "https://localhost:8080/"
        },
        "id": "A8zfWqjt-mkj",
        "outputId": "2b150585-c960-4eda-95d8-26aff3361da0"
      },
      "source": [
        "tf.reduce_max(E)"
      ],
      "execution_count": null,
      "outputs": [
        {
          "output_type": "execute_result",
          "data": {
            "text/plain": [
              "<tf.Tensor: shape=(), dtype=int64, numpy=99>"
            ]
          },
          "metadata": {
            "tags": []
          },
          "execution_count": 20
        }
      ]
    },
    {
      "cell_type": "code",
      "metadata": {
        "colab": {
          "base_uri": "https://localhost:8080/"
        },
        "id": "tFp7F52d-v5A",
        "outputId": "b5b7749d-3da7-4057-df9a-c05c9dd808af"
      },
      "source": [
        "tf.reduce_mean(E)"
      ],
      "execution_count": null,
      "outputs": [
        {
          "output_type": "execute_result",
          "data": {
            "text/plain": [
              "<tf.Tensor: shape=(), dtype=int64, numpy=48>"
            ]
          },
          "metadata": {
            "tags": []
          },
          "execution_count": 21
        }
      ]
    },
    {
      "cell_type": "code",
      "metadata": {
        "colab": {
          "base_uri": "https://localhost:8080/"
        },
        "id": "19F_hBXG-6XL",
        "outputId": "8e6a322a-9603-4c7f-c0e7-97f6281fc4e6"
      },
      "source": [
        "tf.reduce_sum(E)"
      ],
      "execution_count": null,
      "outputs": [
        {
          "output_type": "execute_result",
          "data": {
            "text/plain": [
              "<tf.Tensor: shape=(), dtype=int64, numpy=2402>"
            ]
          },
          "metadata": {
            "tags": []
          },
          "execution_count": 22
        }
      ]
    },
    {
      "cell_type": "code",
      "metadata": {
        "colab": {
          "base_uri": "https://localhost:8080/"
        },
        "id": "PQR5FzRY-91Q",
        "outputId": "81ef1e8e-538e-43da-9b37-be616b92e963"
      },
      "source": [
        "\n",
        "tf.math.reduce_variance(tf.cast(E,dtype=tf.float32))"
      ],
      "execution_count": null,
      "outputs": [
        {
          "output_type": "execute_result",
          "data": {
            "text/plain": [
              "<tf.Tensor: shape=(), dtype=float32, numpy=942.4384>"
            ]
          },
          "metadata": {
            "tags": []
          },
          "execution_count": 23
        }
      ]
    },
    {
      "cell_type": "code",
      "metadata": {
        "colab": {
          "base_uri": "https://localhost:8080/"
        },
        "id": "re-0m-SD_Y3_",
        "outputId": "e058d76a-6df4-4dec-ba23-b1b63622d7b4"
      },
      "source": [
        "tf.math.reduce_std(tf.cast(E,dtype=tf.float32))"
      ],
      "execution_count": null,
      "outputs": [
        {
          "output_type": "execute_result",
          "data": {
            "text/plain": [
              "<tf.Tensor: shape=(), dtype=float32, numpy=30.69916>"
            ]
          },
          "metadata": {
            "tags": []
          },
          "execution_count": 24
        }
      ]
    },
    {
      "cell_type": "code",
      "metadata": {
        "colab": {
          "base_uri": "https://localhost:8080/"
        },
        "id": "wYcSr0g6A2UX",
        "outputId": "8e273509-a67c-42c1-f3c3-b2c93b5855a0"
      },
      "source": [
        "#tf.random.set_seed(42)\n",
        "F = tf.random.uniform(shape=[50])\n",
        "F"
      ],
      "execution_count": null,
      "outputs": [
        {
          "output_type": "execute_result",
          "data": {
            "text/plain": [
              "<tf.Tensor: shape=(50,), dtype=float32, numpy=\n",
              "array([0.25805342, 0.58349764, 0.74955046, 0.0552752 , 0.9363142 ,\n",
              "       0.20974171, 0.42598283, 0.9570861 , 0.9285284 , 0.19709408,\n",
              "       0.21411097, 0.23533309, 0.52356315, 0.43090093, 0.51309276,\n",
              "       0.21002054, 0.30223882, 0.11029756, 0.2231909 , 0.5595106 ,\n",
              "       0.41658092, 0.36236727, 0.47396386, 0.02919173, 0.8824407 ,\n",
              "       0.6083511 , 0.73866355, 0.00391126, 0.10795379, 0.07900786,\n",
              "       0.44614303, 0.46535993, 0.5528556 , 0.6056287 , 0.05835581,\n",
              "       0.19198596, 0.70219326, 0.6148578 , 0.4737078 , 0.38879526,\n",
              "       0.63350964, 0.10412621, 0.22663486, 0.0242362 , 0.30637515,\n",
              "       0.3205247 , 0.795843  , 0.07466996, 0.15476525, 0.5742471 ],\n",
              "      dtype=float32)>"
            ]
          },
          "metadata": {
            "tags": []
          },
          "execution_count": 25
        }
      ]
    },
    {
      "cell_type": "code",
      "metadata": {
        "colab": {
          "base_uri": "https://localhost:8080/"
        },
        "id": "Bhx1WalQCj3N",
        "outputId": "42eedbb6-5cf2-49bd-a7f9-652ffacb5141"
      },
      "source": [
        "tf.argmax(F)"
      ],
      "execution_count": null,
      "outputs": [
        {
          "output_type": "execute_result",
          "data": {
            "text/plain": [
              "<tf.Tensor: shape=(), dtype=int64, numpy=7>"
            ]
          },
          "metadata": {
            "tags": []
          },
          "execution_count": 26
        }
      ]
    },
    {
      "cell_type": "code",
      "metadata": {
        "colab": {
          "base_uri": "https://localhost:8080/"
        },
        "id": "zzuaSqt2C77E",
        "outputId": "feeb44b2-ebd8-4f82-93b7-2946c4b4cb26"
      },
      "source": [
        "F[tf.argmax(F)]"
      ],
      "execution_count": null,
      "outputs": [
        {
          "output_type": "execute_result",
          "data": {
            "text/plain": [
              "<tf.Tensor: shape=(), dtype=float32, numpy=0.9570861>"
            ]
          },
          "metadata": {
            "tags": []
          },
          "execution_count": 27
        }
      ]
    },
    {
      "cell_type": "code",
      "metadata": {
        "colab": {
          "base_uri": "https://localhost:8080/"
        },
        "id": "3g0HTCVcDLOT",
        "outputId": "ac7c1810-32de-4520-d8ac-32df6acf50ee"
      },
      "source": [
        "F[tf.argmin(F)]"
      ],
      "execution_count": null,
      "outputs": [
        {
          "output_type": "execute_result",
          "data": {
            "text/plain": [
              "<tf.Tensor: shape=(), dtype=float32, numpy=0.003911257>"
            ]
          },
          "metadata": {
            "tags": []
          },
          "execution_count": 28
        }
      ]
    },
    {
      "cell_type": "code",
      "metadata": {
        "id": "n1OMK83XDmEW"
      },
      "source": [
        "F = tf.constant(tf.random.uniform(shape=[50]), shape=(1,1,1,50))"
      ],
      "execution_count": null,
      "outputs": []
    },
    {
      "cell_type": "code",
      "metadata": {
        "colab": {
          "base_uri": "https://localhost:8080/"
        },
        "id": "p2DId3FKEn_t",
        "outputId": "8a50771b-445e-44ac-ae6f-467667a27b6f"
      },
      "source": [
        "F"
      ],
      "execution_count": null,
      "outputs": [
        {
          "output_type": "execute_result",
          "data": {
            "text/plain": [
              "<tf.Tensor: shape=(1, 1, 1, 50), dtype=float32, numpy=\n",
              "array([[[[0.04243696, 0.8851373 , 0.08538938, 0.8140296 , 0.20480585,\n",
              "          0.62779045, 0.901513  , 0.99519193, 0.4207009 , 0.22008038,\n",
              "          0.9671608 , 0.32904947, 0.8153496 , 0.8897246 , 0.94835925,\n",
              "          0.78874993, 0.7686198 , 0.88702595, 0.7265632 , 0.36882663,\n",
              "          0.32022882, 0.96221995, 0.7707509 , 0.07917464, 0.3471576 ,\n",
              "          0.32097983, 0.18635666, 0.4519521 , 0.8484278 , 0.5145216 ,\n",
              "          0.03791988, 0.16871202, 0.17489076, 0.07419372, 0.99978435,\n",
              "          0.29314935, 0.4076401 , 0.81951547, 0.62446487, 0.65433896,\n",
              "          0.22750294, 0.21583557, 0.22751427, 0.33335948, 0.6457648 ,\n",
              "          0.8322991 , 0.29098654, 0.04095936, 0.25626075, 0.357468  ]]]],\n",
              "      dtype=float32)>"
            ]
          },
          "metadata": {
            "tags": []
          },
          "execution_count": 30
        }
      ]
    },
    {
      "cell_type": "code",
      "metadata": {
        "id": "lcKeWuC8E6uR"
      },
      "source": [
        "F_squezed = tf.squeeze(F)"
      ],
      "execution_count": null,
      "outputs": []
    },
    {
      "cell_type": "code",
      "metadata": {
        "colab": {
          "base_uri": "https://localhost:8080/"
        },
        "id": "BQKMl50nFDWN",
        "outputId": "d72df885-c030-470e-e466-6292741d8f51"
      },
      "source": [
        "F_squezed"
      ],
      "execution_count": null,
      "outputs": [
        {
          "output_type": "execute_result",
          "data": {
            "text/plain": [
              "<tf.Tensor: shape=(50,), dtype=float32, numpy=\n",
              "array([0.04243696, 0.8851373 , 0.08538938, 0.8140296 , 0.20480585,\n",
              "       0.62779045, 0.901513  , 0.99519193, 0.4207009 , 0.22008038,\n",
              "       0.9671608 , 0.32904947, 0.8153496 , 0.8897246 , 0.94835925,\n",
              "       0.78874993, 0.7686198 , 0.88702595, 0.7265632 , 0.36882663,\n",
              "       0.32022882, 0.96221995, 0.7707509 , 0.07917464, 0.3471576 ,\n",
              "       0.32097983, 0.18635666, 0.4519521 , 0.8484278 , 0.5145216 ,\n",
              "       0.03791988, 0.16871202, 0.17489076, 0.07419372, 0.99978435,\n",
              "       0.29314935, 0.4076401 , 0.81951547, 0.62446487, 0.65433896,\n",
              "       0.22750294, 0.21583557, 0.22751427, 0.33335948, 0.6457648 ,\n",
              "       0.8322991 , 0.29098654, 0.04095936, 0.25626075, 0.357468  ],\n",
              "      dtype=float32)>"
            ]
          },
          "metadata": {
            "tags": []
          },
          "execution_count": 32
        }
      ]
    },
    {
      "cell_type": "code",
      "metadata": {
        "colab": {
          "base_uri": "https://localhost:8080/"
        },
        "id": "y8YdUjU9FE7h",
        "outputId": "c8536910-787c-4e60-e35f-b8ecdfe8793f"
      },
      "source": [
        "some_list = [0,1,2,3]\n",
        "tf.one_hot(some_list,depth=4,on_value=\"Manoj\",off_value=\"Vineetha\")"
      ],
      "execution_count": null,
      "outputs": [
        {
          "output_type": "execute_result",
          "data": {
            "text/plain": [
              "<tf.Tensor: shape=(4, 4), dtype=string, numpy=\n",
              "array([[b'Manoj', b'Vineetha', b'Vineetha', b'Vineetha'],\n",
              "       [b'Vineetha', b'Manoj', b'Vineetha', b'Vineetha'],\n",
              "       [b'Vineetha', b'Vineetha', b'Manoj', b'Vineetha'],\n",
              "       [b'Vineetha', b'Vineetha', b'Vineetha', b'Manoj']], dtype=object)>"
            ]
          },
          "metadata": {
            "tags": []
          },
          "execution_count": 33
        }
      ]
    },
    {
      "cell_type": "code",
      "metadata": {
        "colab": {
          "base_uri": "https://localhost:8080/"
        },
        "id": "uz5w9zVbF7ID",
        "outputId": "e08c6b6f-95c0-43dd-b671-1a87ad0a1393"
      },
      "source": [
        "rand1 = tf.random.uniform((3,3),0,10, dtype = tf.int32)\n",
        "rand1\n"
      ],
      "execution_count": null,
      "outputs": [
        {
          "output_type": "execute_result",
          "data": {
            "text/plain": [
              "<tf.Tensor: shape=(3, 3), dtype=int32, numpy=\n",
              "array([[4, 3, 2],\n",
              "       [6, 1, 8],\n",
              "       [1, 0, 8]], dtype=int32)>"
            ]
          },
          "metadata": {
            "tags": []
          },
          "execution_count": 34
        }
      ]
    },
    {
      "cell_type": "code",
      "metadata": {
        "id": "N1KV3lr2T6tQ"
      },
      "source": [
        ""
      ],
      "execution_count": null,
      "outputs": []
    }
  ]
}